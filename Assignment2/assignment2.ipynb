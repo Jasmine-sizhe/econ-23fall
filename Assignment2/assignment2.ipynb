{
 "cells": [
  {
   "cell_type": "code",
   "execution_count": 1,
   "metadata": {},
   "outputs": [],
   "source": [
    "import pandas as pd\n",
    "import numpy as np"
   ]
  },
  {
   "cell_type": "code",
   "execution_count": 2,
   "metadata": {},
   "outputs": [],
   "source": [
    "import statsmodels.api as sm"
   ]
  },
  {
   "cell_type": "code",
   "execution_count": 3,
   "metadata": {},
   "outputs": [],
   "source": [
    "# read data\n",
    "data = pd.read_csv(\"bm.csv\")"
   ]
  },
  {
   "cell_type": "code",
   "execution_count": 4,
   "metadata": {},
   "outputs": [
    {
     "name": "stdout",
     "output_type": "stream",
     "text": [
      "8.049281314168377\n"
     ]
    }
   ],
   "source": [
    "# Q1 percentage of resume received a call back\n",
    "callback_percentage = (data['call'].sum() / data['call'].count()) * 100\n",
    "print(callback_percentage)"
   ]
  },
  {
   "cell_type": "code",
   "execution_count": 5,
   "metadata": {},
   "outputs": [
    {
     "name": "stdout",
     "output_type": "stream",
     "text": [
      "black\n",
      "0    0.096509\n",
      "1    0.064476\n",
      "Name: call, dtype: float64\n"
     ]
    }
   ],
   "source": [
    "callback_rate_by_race = data.groupby('black')['call'].mean()\n",
    "print(callback_rate_by_race)"
   ]
  },
  {
   "cell_type": "code",
   "execution_count": 6,
   "metadata": {},
   "outputs": [],
   "source": [
    "# 3. 计算黑人和白人申请者的平均回电率差异\n",
    "callback_difference = callback_rate_by_race[1] - callback_rate_by_race[0]\n",
    "\n",
    "# 4. 进行 t-检验以检验回电率差异是否显著\n",
    "t_test_result = sm.stats.ttest_ind(data[data['black'] == 1]['call'], data[data['black'] == 0]['call'])\n",
    "\n",
    "# 5. 运行回归模型\n",
    "model = sm.OLS(data['call'], data['black']).fit()\n",
    "\n",
    "# (a) 检查回归系数是否与之前估计的平均差异相匹配\n",
    "coefficient_match = model.params['black'] == callback_difference\n",
    "\n",
    "# (b) 检查回归系数是否显著\n",
    "coefficient_significance = model.pvalues['black'] < 0.05\n",
    "\n",
    "# 6. 运行单独的回归模型\n",
    "model_female = sm.OLS(data['female'], data['black']).fit()\n",
    "model_exper = sm.OLS(data['exper'], data['black']).fit()"
   ]
  },
  {
   "cell_type": "code",
   "execution_count": 7,
   "metadata": {},
   "outputs": [
    {
     "name": "stdout",
     "output_type": "stream",
     "text": [
      "1. Callback Percentage: 8.049281314168377\n",
      "2. Callback Rate by Race:\n",
      " black\n",
      "0    0.096509\n",
      "1    0.064476\n",
      "Name: call, dtype: float64\n",
      "3. Callback Rate Difference (Black - White): -0.032032854209445585\n",
      "4. T-Test for Difference in Callback Rates: (-4.114705266723098, 3.940802514069475e-05, 4868.0)\n",
      "5. Regression Results for Black:\n",
      "                                  OLS Regression Results                                \n",
      "=======================================================================================\n",
      "Dep. Variable:                   call   R-squared (uncentered):                   0.026\n",
      "Model:                            OLS   Adj. R-squared (uncentered):              0.026\n",
      "Method:                 Least Squares   F-statistic:                              129.1\n",
      "Date:                Sat, 14 Oct 2023   Prob (F-statistic):                    1.54e-29\n",
      "Time:                        22:24:17   Log-Likelihood:                         -711.33\n",
      "No. Observations:                4870   AIC:                                      1425.\n",
      "Df Residuals:                    4869   BIC:                                      1431.\n",
      "Df Model:                           1                                                  \n",
      "Covariance Type:            nonrobust                                                  \n",
      "==============================================================================\n",
      "                 coef    std err          t      P>|t|      [0.025      0.975]\n",
      "------------------------------------------------------------------------------\n",
      "black          0.0645      0.006     11.361      0.000       0.053       0.076\n",
      "==============================================================================\n",
      "Omnibus:                     2926.568   Durbin-Watson:                   1.438\n",
      "Prob(Omnibus):                  0.000   Jarque-Bera (JB):            18232.435\n",
      "Skew:                           3.021   Prob(JB):                         0.00\n",
      "Kurtosis:                      10.304   Cond. No.                         1.00\n",
      "==============================================================================\n",
      "\n",
      "Notes:\n",
      "[1] R² is computed without centering (uncentered) since the model does not contain a constant.\n",
      "[2] Standard Errors assume that the covariance matrix of the errors is correctly specified.\n",
      "(a) Coefficient Match: False\n",
      "(b) Coefficient Significance: True\n",
      "6. Regression Results for Female and Experience (Exper):\n",
      "                                  OLS Regression Results                                \n",
      "=======================================================================================\n",
      "Dep. Variable:                 female   R-squared (uncentered):                   0.390\n",
      "Model:                            OLS   Adj. R-squared (uncentered):              0.390\n",
      "Method:                 Least Squares   F-statistic:                              3112.\n",
      "Date:                Sat, 14 Oct 2023   Prob (F-statistic):                        0.00\n",
      "Time:                        22:24:17   Log-Likelihood:                         -5067.8\n",
      "No. Observations:                4870   AIC:                                  1.014e+04\n",
      "Df Residuals:                    4869   BIC:                                  1.014e+04\n",
      "Df Model:                           1                                                  \n",
      "Covariance Type:            nonrobust                                                  \n",
      "==============================================================================\n",
      "                 coef    std err          t      P>|t|      [0.025      0.975]\n",
      "------------------------------------------------------------------------------\n",
      "black          0.7745      0.014     55.789      0.000       0.747       0.802\n",
      "==============================================================================\n",
      "Omnibus:                      282.354   Durbin-Watson:                   1.236\n",
      "Prob(Omnibus):                  0.000   Jarque-Bera (JB):              257.531\n",
      "Skew:                          -0.502   Prob(JB):                     1.20e-56\n",
      "Kurtosis:                       2.488   Cond. No.                         1.00\n",
      "==============================================================================\n",
      "\n",
      "Notes:\n",
      "[1] R² is computed without centering (uncentered) since the model does not contain a constant.\n",
      "[2] Standard Errors assume that the covariance matrix of the errors is correctly specified.                                  OLS Regression Results                                \n",
      "=======================================================================================\n",
      "Dep. Variable:                  exper   R-squared (uncentered):                   0.352\n",
      "Model:                            OLS   Adj. R-squared (uncentered):              0.352\n",
      "Method:                 Least Squares   F-statistic:                              2651.\n",
      "Date:                Sat, 14 Oct 2023   Prob (F-statistic):                        0.00\n",
      "Time:                        22:24:17   Log-Likelihood:                         -16725.\n",
      "No. Observations:                4870   AIC:                                  3.345e+04\n",
      "Df Residuals:                    4869   BIC:                                  3.346e+04\n",
      "Df Model:                           1                                                  \n",
      "Covariance Type:            nonrobust                                                  \n",
      "==============================================================================\n",
      "                 coef    std err          t      P>|t|      [0.025      0.975]\n",
      "------------------------------------------------------------------------------\n",
      "black          7.8296      0.152     51.484      0.000       7.531       8.128\n",
      "==============================================================================\n",
      "Omnibus:                      532.010   Durbin-Watson:                   1.406\n",
      "Prob(Omnibus):                  0.000   Jarque-Bera (JB):              756.286\n",
      "Skew:                           0.843   Prob(JB):                    5.95e-165\n",
      "Kurtosis:                       3.940   Cond. No.                         1.00\n",
      "==============================================================================\n",
      "\n",
      "Notes:\n",
      "[1] R² is computed without centering (uncentered) since the model does not contain a constant.\n",
      "[2] Standard Errors assume that the covariance matrix of the errors is correctly specified.\n"
     ]
    }
   ],
   "source": [
    "# 输出回归结果\n",
    "print(\"1. Callback Percentage:\", callback_percentage)\n",
    "print(\"2. Callback Rate by Race:\\n\", callback_rate_by_race)\n",
    "print(\"3. Callback Rate Difference (Black - White):\", callback_difference)\n",
    "print(\"4. T-Test for Difference in Callback Rates:\", t_test_result)\n",
    "print(\"5. Regression Results for Black:\\n\", model.summary())\n",
    "print(\"(a) Coefficient Match:\", coefficient_match)\n",
    "print(\"(b) Coefficient Significance:\", coefficient_significance)\n",
    "print(\"6. Regression Results for Female and Experience (Exper):\\n\", model_female.summary(), model_exper.summary())"
   ]
  },
  {
   "cell_type": "code",
   "execution_count": 9,
   "metadata": {},
   "outputs": [
    {
     "name": "stdout",
     "output_type": "stream",
     "text": [
      "                            OLS Regression Results                            \n",
      "==============================================================================\n",
      "Dep. Variable:                   call   R-squared:                       0.003\n",
      "Model:                            OLS   Adj. R-squared:                  0.003\n",
      "Method:                 Least Squares   F-statistic:                     16.93\n",
      "Date:                Sat, 14 Oct 2023   Prob (F-statistic):           3.94e-05\n",
      "Time:                        22:38:38   Log-Likelihood:                -562.24\n",
      "No. Observations:                4870   AIC:                             1128.\n",
      "Df Residuals:                    4868   BIC:                             1141.\n",
      "Df Model:                           1                                         \n",
      "Covariance Type:            nonrobust                                         \n",
      "==============================================================================\n",
      "                 coef    std err          t      P>|t|      [0.025      0.975]\n",
      "------------------------------------------------------------------------------\n",
      "const          0.0965      0.006     17.532      0.000       0.086       0.107\n",
      "black         -0.0320      0.008     -4.115      0.000      -0.047      -0.017\n",
      "==============================================================================\n",
      "Omnibus:                     2969.205   Durbin-Watson:                   1.440\n",
      "Prob(Omnibus):                  0.000   Jarque-Bera (JB):            18927.068\n",
      "Skew:                           3.068   Prob(JB):                         0.00\n",
      "Kurtosis:                      10.458   Cond. No.                         2.62\n",
      "==============================================================================\n",
      "\n",
      "Notes:\n",
      "[1] Standard Errors assume that the covariance matrix of the errors is correctly specified.\n"
     ]
    }
   ],
   "source": [
    "import statsmodels.api as sm\n",
    "import pandas as pd\n",
    "\n",
    "# 拟合线性回归模型\n",
    "X = data[\"black\"]\n",
    "X = sm.add_constant(X)  # 添加截距项\n",
    "y = data[\"call\"]\n",
    "model = sm.OLS(y, X).fit()\n",
    "\n",
    "# 打印回归结果\n",
    "print(model.summary())\n"
   ]
  },
  {
   "cell_type": "code",
   "execution_count": 10,
   "metadata": {},
   "outputs": [
    {
     "name": "stdout",
     "output_type": "stream",
     "text": [
      "Regression Results for Female on Black:\n",
      "                            OLS Regression Results                            \n",
      "==============================================================================\n",
      "Dep. Variable:                 female   R-squared:                       0.000\n",
      "Model:                            OLS   Adj. R-squared:                 -0.000\n",
      "Method:                 Least Squares   F-statistic:                    0.7817\n",
      "Date:                Sat, 14 Oct 2023   Prob (F-statistic):              0.377\n",
      "Time:                        22:46:15   Log-Likelihood:                -2700.7\n",
      "No. Observations:                4870   AIC:                             5405.\n",
      "Df Residuals:                    4868   BIC:                             5418.\n",
      "Df Model:                           1                                         \n",
      "Covariance Type:            nonrobust                                         \n",
      "==============================================================================\n",
      "                 coef    std err          t      P>|t|      [0.025      0.975]\n",
      "------------------------------------------------------------------------------\n",
      "const          0.7639      0.009     89.448      0.000       0.747       0.781\n",
      "black          0.0107      0.012      0.884      0.377      -0.013       0.034\n",
      "==============================================================================\n",
      "Omnibus:                      863.543   Durbin-Watson:                   1.202\n",
      "Prob(Omnibus):                  0.000   Jarque-Bera (JB):             1351.990\n",
      "Skew:                          -1.278   Prob(JB):                    2.63e-294\n",
      "Kurtosis:                       2.633   Cond. No.                         2.62\n",
      "==============================================================================\n",
      "\n",
      "Notes:\n",
      "[1] Standard Errors assume that the covariance matrix of the errors is correctly specified.\n",
      "Regression Results for Exper on Black:\n",
      "                            OLS Regression Results                            \n",
      "==============================================================================\n",
      "Dep. Variable:                  exper   R-squared:                       0.000\n",
      "Model:                            OLS   Adj. R-squared:                 -0.000\n",
      "Method:                 Least Squares   F-statistic:                   0.03408\n",
      "Date:                Sat, 14 Oct 2023   Prob (F-statistic):              0.854\n",
      "Time:                        22:46:15   Log-Likelihood:                -14791.\n",
      "No. Observations:                4870   AIC:                         2.959e+04\n",
      "Df Residuals:                    4868   BIC:                         2.960e+04\n",
      "Df Model:                           1                                         \n",
      "Covariance Type:            nonrobust                                         \n",
      "==============================================================================\n",
      "                 coef    std err          t      P>|t|      [0.025      0.975]\n",
      "------------------------------------------------------------------------------\n",
      "const          7.8563      0.102     76.841      0.000       7.656       8.057\n",
      "black         -0.0267      0.145     -0.185      0.854      -0.310       0.257\n",
      "==============================================================================\n",
      "Omnibus:                     1555.844   Durbin-Watson:                   1.641\n",
      "Prob(Omnibus):                  0.000   Jarque-Bera (JB):             4483.247\n",
      "Skew:                           1.685   Prob(JB):                         0.00\n",
      "Kurtosis:                       6.277   Cond. No.                         2.62\n",
      "==============================================================================\n",
      "\n",
      "Notes:\n",
      "[1] Standard Errors assume that the covariance matrix of the errors is correctly specified.\n"
     ]
    }
   ],
   "source": [
    "# 拟合回归模型：female on black\n",
    "X_female = data[\"black\"]\n",
    "X_female = sm.add_constant(X_female)  # 添加截距项\n",
    "y_female = data[\"female\"]\n",
    "model_female = sm.OLS(y_female, X_female).fit()\n",
    "\n",
    "# 打印回归结果\n",
    "print(\"Regression Results for Female on Black:\")\n",
    "print(model_female.summary())\n",
    "\n",
    "# 拟合回归模型：exper on black\n",
    "X_exper = data[\"black\"]\n",
    "X_exper = sm.add_constant(X_exper)  # 添加截距项\n",
    "y_exper = data[\"exper\"]\n",
    "model_exper = sm.OLS(y_exper, X_exper).fit()\n",
    "\n",
    "# 打印回归结果\n",
    "print(\"Regression Results for Exper on Black:\")\n",
    "print(model_exper.summary())\n"
   ]
  },
  {
   "cell_type": "code",
   "execution_count": 11,
   "metadata": {},
   "outputs": [
    {
     "data": {
      "text/plain": [
       "2.1972245773362196"
      ]
     },
     "execution_count": 11,
     "metadata": {},
     "output_type": "execute_result"
    }
   ],
   "source": [
    "np.log(3^10)"
   ]
  },
  {
   "cell_type": "code",
   "execution_count": 13,
   "metadata": {},
   "outputs": [
    {
     "data": {
      "text/plain": [
       "-2.995732273553991"
      ]
     },
     "execution_count": 13,
     "metadata": {},
     "output_type": "execute_result"
    }
   ],
   "source": [
    "np.log(0.05)"
   ]
  },
  {
   "cell_type": "code",
   "execution_count": null,
   "metadata": {},
   "outputs": [],
   "source": []
  }
 ],
 "metadata": {
  "kernelspec": {
   "display_name": "base",
   "language": "python",
   "name": "python3"
  },
  "language_info": {
   "codemirror_mode": {
    "name": "ipython",
    "version": 3
   },
   "file_extension": ".py",
   "mimetype": "text/x-python",
   "name": "python",
   "nbconvert_exporter": "python",
   "pygments_lexer": "ipython3",
   "version": "3.8.3"
  },
  "orig_nbformat": 4
 },
 "nbformat": 4,
 "nbformat_minor": 2
}
